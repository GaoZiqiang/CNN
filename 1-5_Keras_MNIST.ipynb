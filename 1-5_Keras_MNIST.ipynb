{
 "cells": [
  {
   "cell_type": "code",
   "execution_count": null,
   "metadata": {},
   "outputs": [],
   "source": [
    "import numpy as np\n",
    "import matplotlib.pyplot as plt"
   ]
  },
  {
   "cell_type": "code",
   "execution_count": 6,
   "metadata": {},
   "outputs": [],
   "source": [
    "from keras.datasets import mnist\n",
    "from keras.models import Sequential\n",
    "from keras.layers.core import Dense,Dropout,Activation\n",
    "from keras.utils import np_utils"
   ]
  },
  {
   "cell_type": "code",
   "execution_count": null,
   "metadata": {},
   "outputs": [],
   "source": [
    "# 获取数据\n",
    "(X_train,y_train),(X_test,y_test) = mnist.load_data()\n",
    "\n",
    "print('X_train: ',X_train.shape)\n",
    "print('y_train: ',y_train.shape)\n",
    "print('X_test',X_test)\n",
    "print('y_test',y_test)"
   ]
  },
  {
   "cell_type": "code",
   "execution_count": null,
   "metadata": {},
   "outputs": [],
   "source": [
    "# 训练数据可视化（暂时不处理了）\n",
    "import matplotlib.pyplot as plt\n",
    "%matlplotlib inline# 可以直接在你的python console里面生成图像\n",
    "\n",
    "# 通过索引展示MNIST dataset中的image\n",
    "def display_digit(index):\n",
    "    lable = y_trian[index].argmax(axis=0)\n",
    "    image = X_train[index]\n",
    "    plt.title('Training data,index:%d, Label:%d'%(index,label))\n",
    "    plt.imshow(image,cmap='gray_r')\n",
    "    plt.show()\n",
    "\n",
    "display_digit(0)"
   ]
  },
  {
   "cell_type": "code",
   "execution_count": null,
   "metadata": {},
   "outputs": [],
   "source": [
    "# 创建神经网络\n",
    "# 定义神经网络\n",
    "\n",
    "'''\n",
    "Sequential是多个网络层的线性堆叠\n",
    "其构建方法如下:\n",
    "\n",
    "model = Sequential([\n",
    "Dense(32, input_dim=784),\n",
    "Activation('relu'),\n",
    "Dense(10),\n",
    "Activation('softmax'),\n",
    "])\n",
    "'''\n",
    "def build_model():\n",
    "    model = Sequential()\n",
    "    model.add(Dense(512,input_shape=(784,)))# Q:这个512是什么意思\n",
    "    model.add(Activation('relu'))# 使用ReLU激活函数\n",
    "    model.add(Dropout=0.2)# 添加dropout，以避免过拟合\n",
    "    model.add(Dense(512))\n",
    "    model.add(Activation('relu'))\n",
    "    model.add(Dropout(0.2))\n",
    "    model.add(Dense(10))\n",
    "    model.add(Activation('softmax'))\n",
    "    \n",
    "    return model\n",
    "\n",
    "# 创建神经网络\n",
    "model = build_model()\n",
    "\n",
    "model.compile(optimizer='rmsprop',\n",
    "             loss='categorical_crossentropy',\n",
    "             metrics=['accuracy'])"
   ]
  },
  {
   "cell_type": "code",
   "execution_count": null,
   "metadata": {},
   "outputs": [],
   "source": [
    "# 训练神经网络\n",
    "model.fit(X_train,y_train,batch_size=128,nb_epoch=4,verbose=1,validation_data=(X_test,y_test))"
   ]
  },
  {
   "cell_type": "code",
   "execution_count": null,
   "metadata": {},
   "outputs": [],
   "source": [
    "# 测试\n",
    "loss,accuracy = model.evaluate(X_test,y_test,batch_size=32,verbose=1,sample_weight=None)\n",
    "\n",
    "print('Test loss: ',loss)\n",
    "print('Test accuracy: ',accuracy)"
   ]
  }
 ],
 "metadata": {
  "kernelspec": {
   "display_name": "Python 3",
   "language": "python",
   "name": "python3"
  },
  "language_info": {
   "codemirror_mode": {
    "name": "ipython",
    "version": 3
   },
   "file_extension": ".py",
   "mimetype": "text/x-python",
   "name": "python",
   "nbconvert_exporter": "python",
   "pygments_lexer": "ipython3",
   "version": "3.7.9"
  }
 },
 "nbformat": 4,
 "nbformat_minor": 4
}
