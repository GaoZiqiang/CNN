{
 "cells": [
  {
   "cell_type": "code",
   "execution_count": 9,
   "metadata": {},
   "outputs": [],
   "source": [
    "'''\n",
    "我的第一个卷积神经网络（CNN）demo\n",
    "author @ Gao Ziqiang\n",
    "'''\n",
    "\n",
    "# 导入包\n",
    "import numpy as np\n",
    "import math"
   ]
  },
  {
   "cell_type": "code",
   "execution_count": 6,
   "metadata": {},
   "outputs": [],
   "source": [
    "# 创建神经元\n",
    "class Neuron(object):\n",
    "    def __init__(self):\n",
    "        # 权重矩阵\n",
    "        self.weights = np.array([1.0,2.0])\n",
    "        # 偏置常数\n",
    "        self.bias = 0.0\n",
    "    \n",
    "    # 前馈网络\n",
    "    def forward(self,inputs):\n",
    "        #　神经元输出的计算公式\n",
    "        a_cell_sum = np.sum(inputs * self.weights) + self.bias\n",
    "        # 使用sigmoid激活函数进行激活\n",
    "        result = 1.0 / (1.0 + math.exp(-a_cell_sum))\n",
    "        return result"
   ]
  },
  {
   "cell_type": "code",
   "execution_count": 7,
   "metadata": {},
   "outputs": [
    {
     "name": "stdout",
     "output_type": "stream",
     "text": [
      "0.9525741268224334\n"
     ]
    }
   ],
   "source": [
    "# 实现\n",
    "neuron = Neuron()\n",
    "output = neuron.forward(np.array([1,1]))\n",
    "print(output)"
   ]
  }
 ],
 "metadata": {
  "kernelspec": {
   "display_name": "Python 3",
   "language": "python",
   "name": "python3"
  },
  "language_info": {
   "codemirror_mode": {
    "name": "ipython",
    "version": 3
   },
   "file_extension": ".py",
   "mimetype": "text/x-python",
   "name": "python",
   "nbconvert_exporter": "python",
   "pygments_lexer": "ipython3",
   "version": "3.7.9"
  }
 },
 "nbformat": 4,
 "nbformat_minor": 4
}
